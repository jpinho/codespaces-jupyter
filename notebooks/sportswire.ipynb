{
 "cells": [
  {
   "cell_type": "code",
   "execution_count": 1,
   "metadata": {},
   "outputs": [
    {
     "ename": "SyntaxError",
     "evalue": "invalid syntax (3594546636.py, line 1)",
     "output_type": "error",
     "traceback": [
      "\u001b[0;36m  Cell \u001b[0;32mIn[1], line 1\u001b[0;36m\u001b[0m\n\u001b[0;31m    const accessToken = \"dfe3004bee4bdd5a1cb9a9de849c60b198732ea4\";\u001b[0m\n\u001b[0m          ^\u001b[0m\n\u001b[0;31mSyntaxError\u001b[0m\u001b[0;31m:\u001b[0m invalid syntax\n"
     ]
    }
   ],
   "source": [
    "const accessToken = \"dfe3004bee4bdd5a1cb9a9de849c60b198732ea4\";\n",
    "const apiUrl = \"https://www.strava.com/api/v3/athlete\";\n",
    "\n",
    "// Fetch Strava profile data\n",
    "fetch(apiUrl, {\n",
    "  headers: {\n",
    "    \"Authorization\": `Bearer ${accessToken}`\n",
    "  }\n",
    "})\n",
    ".then(response => {\n",
    "  if (!response.ok) {\n",
    "    throw new Error(`Failed to fetch Strava profile data: ${response.status} ${response.statusText}`);\n",
    "  }\n",
    "  return response.json();\n",
    "})\n",
    ".then(data => {\n",
    "  // Access and use the Strava profile data\n",
    "  console.log(data);\n",
    "  // Update UI or perform other operations with the profile data\n",
    "})\n",
    ".catch(error => {\n",
    "  console.error(error);\n",
    "});"
   ]
  }
 ],
 "metadata": {
  "kernelspec": {
   "display_name": "Python 3 (ipykernel)",
   "language": "python",
   "name": "python3"
  },
  "language_info": {
   "codemirror_mode": {
    "name": "ipython",
    "version": 3
   },
   "file_extension": ".py",
   "mimetype": "text/x-python",
   "name": "python",
   "nbconvert_exporter": "python",
   "pygments_lexer": "ipython3",
   "version": "3.10.4"
  },
  "orig_nbformat": 4
 },
 "nbformat": 4,
 "nbformat_minor": 2
}
