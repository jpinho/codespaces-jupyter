{
 "cells": [
  {
   "cell_type": "code",
   "execution_count": null,
   "metadata": {},
   "outputs": [],
   "source": [
    "const accessToken = process.env.STRAVA_API_KEY;\n",
    "const apiUrl = \"https://www.strava.com/api/v3/athlete\";\n",
    "\n",
    "// Define the API endpoint and parameters\n",
    "const chatGptApiUrl = \"https://api.openai.com/v1/chat/completions\";\n",
    "const headers = {\n",
    "  \"Content-Type\": \"application/json\",\n",
    "  \"Authorization\": \"Bearer <TOKEN>\"\n",
    "};"
   ]
  },
  {
   "cell_type": "code",
   "execution_count": null,
   "metadata": {},
   "outputs": [],
   "source": [
    "let athleteData = {}\n",
    "\n",
    "// Fetch Strava profile data\n",
    "fetch(apiUrl, {\n",
    "  headers: {\n",
    "    \"Authorization\": `Bearer ${accessToken}`\n",
    "  }\n",
    "})\n",
    ".then(response => {\n",
    "  if (!response.ok) {\n",
    "    throw new Error(`Failed to fetch Strava profile data: ${response.status} ${response.statusText}`);\n",
    "  }\n",
    "  return response.json();\n",
    "})\n",
    ".then(data => {\n",
    "  // Access and use the Strava profile data\n",
    "  console.log(data);\n",
    "  athleteData = data;\n",
    "  // Update UI or perform other operations with the profile data\n",
    "})\n",
    ".catch(error => {\n",
    "  console.error(error);\n",
    "});"
   ]
  },
  {
   "cell_type": "code",
   "execution_count": null,
   "metadata": {},
   "outputs": [],
   "source": [
    "const prompt = `what can you tell me about this strava athlete`;\n",
    "\n",
    "const data = {\n",
    "  messages: [\n",
    "    { role: \"system\", content: \"You are ChatGPT, a large language model trained by OpenAI.\" },\n",
    "    { role: \"user\", content: prompt }\n",
    "  ],\n",
    "  max_tokens: 100\n",
    "};\n",
    "console.log(data)\n",
    "\n",
    "// Call the ChatGPT API\n",
    "fetch(chatGptApiUrl, {\n",
    "  method: \"POST\",\n",
    "  headers: headers,\n",
    "  body: JSON.stringify(data)\n",
    "})\n",
    ".then(response => {\n",
    "  if (response.ok) {\n",
    "    return response.json();\n",
    "  } else {\n",
    "    throw new Error(`HTTP error ${response.status}: ${response.statusText}`);\n",
    "  }\n",
    "})\n",
    ".then(data => {\n",
    "  console.log(data);\n",
    "  // Handle the response data as needed\n",
    "})\n",
    ".catch(error => {\n",
    "  if (error.response && error.response.status === 400) {\n",
    "    error.response.json().then(errorData => {\n",
    "      console.error(`Error: ${errorData.error.message}`);\n",
    "      // Log the detailed error information from the API response\n",
    "    });\n",
    "  } else {\n",
    "    console.error(error);\n",
    "    // Log any other errors that may have occurred\n",
    "  }\n",
    "});\n"
   ]
  }
 ],
 "metadata": {
  "kernelspec": {
   "display_name": "JavaScript (Node.js)",
   "language": "javascript",
   "name": "javascript"
  },
  "language_info": {
   "file_extension": ".js",
   "mimetype": "application/javascript",
   "name": "javascript",
   "version": "19.8.1"
  },
  "orig_nbformat": 4
 },
 "nbformat": 4,
 "nbformat_minor": 2
}
